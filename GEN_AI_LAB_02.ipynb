{
  "nbformat": 4,
  "nbformat_minor": 0,
  "metadata": {
    "colab": {
      "provenance": [],
      "authorship_tag": "ABX9TyMW3bzkLwCzKkEFH0ALshPB",
      "include_colab_link": true
    },
    "kernelspec": {
      "name": "python3",
      "display_name": "Python 3"
    },
    "language_info": {
      "name": "python"
    }
  },
  "cells": [
    {
      "cell_type": "markdown",
      "metadata": {
        "id": "view-in-github",
        "colab_type": "text"
      },
      "source": [
        "<a href=\"https://colab.research.google.com/github/2303A52183/2303a52183-GEN-AI-2025/blob/main/GEN_AI_LAB_02.ipynb\" target=\"_parent\"><img src=\"https://colab.research.google.com/assets/colab-badge.svg\" alt=\"Open In Colab\"/></a>"
      ]
    },
    {
      "cell_type": "markdown",
      "source": [
        "#ASSIGNMENT-02\n",
        "\n",
        "2303A52183\n",
        "\n",
        "BATCH:34"
      ],
      "metadata": {
        "id": "_MQIBYVumI27"
      }
    },
    {
      "cell_type": "markdown",
      "source": [
        "# Case Study 1: Chocolate Manufacturing"
      ],
      "metadata": {
        "id": "x3FfPiDdlAYj"
      }
    },
    {
      "cell_type": "code",
      "execution_count": null,
      "metadata": {
        "colab": {
          "base_uri": "https://localhost:8080/"
        },
        "id": "qeZRvYsFkxlO",
        "outputId": "cd71efa8-1ca9-4008-cbd5-34587dc4dd1e"
      },
      "outputs": [
        {
          "output_type": "stream",
          "name": "stdout",
          "text": [
            "Units of A: 2.00\n",
            "Units of B: 3.00\n",
            "Maximum Profit: Rs 27.00\n"
          ]
        }
      ],
      "source": [
        "from scipy.optimize import linprog\n",
        "\n",
        "profit = [-6, -5]\n",
        "constraints = [\n",
        "    [1, 1],\n",
        "    [3, 2]\n",
        "]\n",
        "resources = [5, 12]\n",
        "bounds = [(0, None), (0, None)]\n",
        "\n",
        "result = linprog(c=profit, A_ub=constraints, b_ub=resources, bounds=bounds, method=\"highs\")\n",
        "\n",
        "if result.success:\n",
        "    print(f\"Units of A: {result.x[0]:.2f}\")\n",
        "    print(f\"Units of B: {result.x[1]:.2f}\")\n",
        "    print(f\"Maximum Profit: Rs {-result.fun:.2f}\")\n",
        "else:\n",
        "    print(\"No solution found.\")\n"
      ]
    },
    {
      "cell_type": "markdown",
      "source": [
        "# Case Study 2: Farm Optimization"
      ],
      "metadata": {
        "id": "Kuqqw-RalQoO"
      }
    },
    {
      "cell_type": "code",
      "source": [
        "from scipy.optimize import linprog\n",
        "\n",
        "profit = [-50, -120]\n",
        "constraints = [\n",
        "    [7000, 2000],\n",
        "    [10, 30],\n",
        "    [1, 1]\n",
        "]\n",
        "resources = [700000, 1200, 110]\n",
        "bounds = [(0, None), (0, None)]\n",
        "\n",
        "result = linprog(c=profit, A_ub=constraints, b_ub=resources, bounds=bounds, method=\"highs\")\n",
        "\n",
        "if result.success:\n",
        "    print(f\"Hectares of Wheat: {result.x[0]:.2f}\")\n",
        "    print(f\"Hectares of Barley: {result.x[1]:.2f}\")\n",
        "    print(f\"Maximum Profit: Rs {-result.fun:.2f}\")\n",
        "else:\n",
        "    print(\"No solution found.\")\n"
      ],
      "metadata": {
        "colab": {
          "base_uri": "https://localhost:8080/"
        },
        "id": "kIguW5g1lSr8",
        "outputId": "5e70ccbf-522b-422a-ac20-2e30d4b4b6fa"
      },
      "execution_count": null,
      "outputs": [
        {
          "output_type": "stream",
          "name": "stdout",
          "text": [
            "Hectares of Wheat: 97.89\n",
            "Hectares of Barley: 7.37\n",
            "Maximum Profit: Rs 5778.95\n"
          ]
        }
      ]
    }
  ]
}