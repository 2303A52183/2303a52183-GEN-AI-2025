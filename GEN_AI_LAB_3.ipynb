{
  "nbformat": 4,
  "nbformat_minor": 0,
  "metadata": {
    "colab": {
      "provenance": [],
      "authorship_tag": "ABX9TyPPkT4bMEXkw4DPSmu8p6wz",
      "include_colab_link": true
    },
    "kernelspec": {
      "name": "python3",
      "display_name": "Python 3"
    },
    "language_info": {
      "name": "python"
    }
  },
  "cells": [
    {
      "cell_type": "markdown",
      "metadata": {
        "id": "view-in-github",
        "colab_type": "text"
      },
      "source": [
        "<a href=\"https://colab.research.google.com/github/2303A52183/2303a52183-GEN-AI-2025/blob/main/GEN_AI_LAB_3.ipynb\" target=\"_parent\"><img src=\"https://colab.research.google.com/assets/colab-badge.svg\" alt=\"Open In Colab\"/></a>"
      ]
    },
    {
      "cell_type": "markdown",
      "source": [
        "**QUESTION-1**"
      ],
      "metadata": {
        "id": "_Lya7vS1pcdI"
      }
    },
    {
      "cell_type": "markdown",
      "source": [
        "# ASSIGNMENT-3\n",
        "\n",
        "2303A52183\n",
        "\n",
        "BATCH:34"
      ],
      "metadata": {
        "id": "Hpu9BjPxrAGh"
      }
    },
    {
      "cell_type": "code",
      "source": [
        "# 1. Minimizing f(x) = 5x^4 + 3x^2 + 10\n",
        "# Derivative: f'(x) = 20x^3 + 6x\n",
        "f_prime = lambda x: 20 * x**3 + 6 * x\n",
        "result1 = gradient_descent_single_variable(f_prime, initial_x=1.0, learning_rate=0.01, max_iterations=10000, tolerance=1e-6)\n",
        "print(\"Minimum value of x for f(x):\", result1)\n"
      ],
      "metadata": {
        "colab": {
          "base_uri": "https://localhost:8080/"
        },
        "id": "d_UbYWNHm50P",
        "outputId": "7957fac1-8687-4864-bd99-8d620867fca8"
      },
      "execution_count": 4,
      "outputs": [
        {
          "output_type": "stream",
          "name": "stdout",
          "text": [
            "Minimum value of x for f(x): 1.63586104206045e-05\n"
          ]
        }
      ]
    },
    {
      "cell_type": "markdown",
      "source": [
        "**QUESTION-2**"
      ],
      "metadata": {
        "id": "HJsna0BVpYHD"
      }
    },
    {
      "cell_type": "code",
      "source": [
        "# 2. Minimizing g(x, y) = 3x^2 + 5e^(-y) + 10\n",
        "def gradient_descent_two_variables(f_prime_x, f_prime_y, initial_x, initial_y, learning_rate, max_iterations, tolerance):\n",
        "    x, y = initial_x, initial_y\n",
        "    for _ in range(max_iterations):\n",
        "        grad_x, grad_y = f_prime_x(x, y), f_prime_y(x, y)\n",
        "        new_x, new_y = x - learning_rate * grad_x, y - learning_rate * grad_y\n",
        "        if abs(new_x - x) < tolerance and abs(new_y - y) < tolerance:\n",
        "            break\n",
        "        x, y = new_x, new_y\n",
        "    return x, y\n",
        "\n",
        "def f_prime_x(x, y):\n",
        "    return 6 * x\n",
        "\n",
        "def f_prime_y(x, y):\n",
        "    from math import exp\n",
        "    return -5 * exp(-y)\n",
        "\n",
        "result2 = gradient_descent_two_variables(f_prime_x, f_prime_y, initial_x=1.0, initial_y=1.0, learning_rate=0.1, max_iterations=10000, tolerance=1e-6)\n",
        "print(\"Minimum values of x and y for g(x, y):\", result2)\n"
      ],
      "metadata": {
        "colab": {
          "base_uri": "https://localhost:8080/"
        },
        "id": "bul3HeuSm-sz",
        "outputId": "9aa3ade2-d46a-4f63-d0e2-6814ab313c46"
      },
      "execution_count": 5,
      "outputs": [
        {
          "output_type": "stream",
          "name": "stdout",
          "text": [
            "Minimum values of x and y for g(x, y): (0.0, 8.518115627930252)\n"
          ]
        }
      ]
    },
    {
      "cell_type": "markdown",
      "source": [
        "**QUESTION-3**"
      ],
      "metadata": {
        "id": "iyovsPOHpQzP"
      }
    },
    {
      "cell_type": "code",
      "source": [
        "# 3. Minimizing z(x) = 1 / (1 + e^(-x))\n",
        "def sigmoid_prime(x):\n",
        "    from math import exp\n",
        "    sig = 1 / (1 + exp(-x))\n",
        "    return sig * (1 - sig)\n",
        "\n",
        "result3 = gradient_descent_single_variable(sigmoid_prime, initial_x=1.0, learning_rate=0.1, max_iterations=10000, tolerance=1e-6)\n",
        "print(\"Minimum value of x for z(x):\", result3)\n"
      ],
      "metadata": {
        "colab": {
          "base_uri": "https://localhost:8080/"
        },
        "id": "9GJKhz9VnBZs",
        "outputId": "11e2f159-686a-4cda-8a73-3ba3583ccabd"
      },
      "execution_count": 6,
      "outputs": [
        {
          "output_type": "stream",
          "name": "stdout",
          "text": [
            "Minimum value of x for z(x): -6.8897282615101805\n"
          ]
        }
      ]
    },
    {
      "cell_type": "markdown",
      "source": [
        "**QUESTION-4**"
      ],
      "metadata": {
        "id": "TKjgzDOgpI6p"
      }
    },
    {
      "cell_type": "code",
      "source": [
        "# 4\n",
        "input_value = 2\n",
        "expected_output = 0.5\n",
        "M = 0\n",
        "C = 0\n",
        "\n",
        "learning_rate = 0.01\n",
        "iterations = 1000\n",
        "\n",
        "def squared_error(M, C, input_value, expected_output):\n",
        "    output = M * input_value + C\n",
        "    return (output - expected_output) ** 2\n",
        "\n",
        "for i in range(iterations):\n",
        "    error = squared_error(M, C, input_value, expected_output)\n",
        "    dM = 2 * (M * input_value + C - expected_output) * input_value\n",
        "    dC = 2 * (M * input_value + C - expected_output)\n",
        "\n",
        "    M = M - learning_rate * dM\n",
        "    C = C - learning_rate * dC\n",
        "\n",
        "    if i % 100 == 0:\n",
        "        print(f\"Iteration {i}: M = {M}, C = {C}, Squared Error = {error}\")\n",
        "\n",
        "print(f\"Optimal M = {M}, Optimal C = {C}\")\n"
      ],
      "metadata": {
        "colab": {
          "base_uri": "https://localhost:8080/"
        },
        "id": "tiPOl39FnEa9",
        "outputId": "a1811947-70e3-4923-bdcd-d39837e6177e"
      },
      "execution_count": 7,
      "outputs": [
        {
          "output_type": "stream",
          "name": "stdout",
          "text": [
            "Iteration 0: M = 0.02, C = 0.01, Squared Error = 0.25\n",
            "Iteration 100: M = 0.19999521894820022, C = 0.09999760947410011, Squared Error = 1.7637697771762754e-10\n",
            "Iteration 200: M = 0.19999999987300857, C = 0.09999999993650428, Squared Error = 1.2443537935370191e-19\n",
            "Iteration 300: M = 0.19999999999999662, C = 0.09999999999999831, Squared Error = 8.697191480061655e-29\n",
            "Iteration 400: M = 0.19999999999999987, C = 0.09999999999999994, Squared Error = 1.1093356479670479e-31\n",
            "Iteration 500: M = 0.19999999999999987, C = 0.09999999999999994, Squared Error = 1.1093356479670479e-31\n",
            "Iteration 600: M = 0.19999999999999987, C = 0.09999999999999994, Squared Error = 1.1093356479670479e-31\n",
            "Iteration 700: M = 0.19999999999999987, C = 0.09999999999999994, Squared Error = 1.1093356479670479e-31\n",
            "Iteration 800: M = 0.19999999999999987, C = 0.09999999999999994, Squared Error = 1.1093356479670479e-31\n",
            "Iteration 900: M = 0.19999999999999987, C = 0.09999999999999994, Squared Error = 1.1093356479670479e-31\n",
            "Optimal M = 0.19999999999999987, Optimal C = 0.09999999999999994\n"
          ]
        }
      ]
    }
  ]
}