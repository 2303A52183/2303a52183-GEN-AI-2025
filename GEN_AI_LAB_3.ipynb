{
  "nbformat": 4,
  "nbformat_minor": 0,
  "metadata": {
    "colab": {
      "provenance": [],
      "authorship_tag": "ABX9TyP/wAvrzndIDeEm7x+U/mbx",
      "include_colab_link": true
    },
    "kernelspec": {
      "name": "python3",
      "display_name": "Python 3"
    },
    "language_info": {
      "name": "python"
    }
  },
  "cells": [
    {
      "cell_type": "markdown",
      "metadata": {
        "id": "view-in-github",
        "colab_type": "text"
      },
      "source": [
        "<a href=\"https://colab.research.google.com/github/2303A52183/2303a52183-GEN-AI-2025/blob/main/GEN_AI_LAB_3.ipynb\" target=\"_parent\"><img src=\"https://colab.research.google.com/assets/colab-badge.svg\" alt=\"Open In Colab\"/></a>"
      ]
    },
    {
      "cell_type": "markdown",
      "source": [
        "**QUESTION-1**"
      ],
      "metadata": {
        "id": "_Lya7vS1pcdI"
      }
    },
    {
      "cell_type": "markdown",
      "source": [
        "# ASSIGNMENT-3\n",
        "\n",
        "2303A52183\n",
        "\n",
        "BATCH:34"
      ],
      "metadata": {
        "id": "Hpu9BjPxrAGh"
      }
    },
    {
      "cell_type": "markdown",
      "source": [
        "## QUESTION-1\n"
      ],
      "metadata": {
        "id": "3SlRD4NR04cU"
      }
    },
    {
      "cell_type": "code",
      "source": [
        "def f(x):\n",
        "    return 5 * x**4 + 3 * x**2 + 10\n",
        "\n",
        "def df(x):\n",
        "    return 20 * x**3 + 6 * x\n",
        "\n",
        "def gradient_descent(start_x, learning_rate, iterations):\n",
        "    x = start_x\n",
        "    for i in range(iterations):\n",
        "        grad = df(x)\n",
        "        x -= learning_rate * grad\n",
        "        print(f\"Iteration {i+1}: x = {x}, f(x) = {f(x)}\")\n",
        "    return x\n",
        "\n",
        "start_x = 1.0\n",
        "learning_rate = 0.01\n",
        "iterations = 10\n",
        "\n",
        "minimum_x = gradient_descent(start_x, learning_rate, iterations)\n",
        "\n",
        "print(\"Value of x at minimum:\", minimum_x)\n",
        "print(\"Minimum value of f(x):\", f(minimum_x))\n"
      ],
      "metadata": {
        "colab": {
          "base_uri": "https://localhost:8080/"
        },
        "id": "sRhNFoAX02pP",
        "outputId": "f3fd96b3-05ab-460c-b31d-33038b13ed16"
      },
      "execution_count": 2,
      "outputs": [
        {
          "output_type": "stream",
          "name": "stdout",
          "text": [
            "Iteration 1: x = 0.74, f(x) = 13.1421288\n",
            "Iteration 2: x = 0.6145552, f(x) = 11.846237994400788\n",
            "Iteration 3: x = 0.5312610807000426, f(x) = 11.245007398763406\n",
            "Iteration 4: x = 0.4693969671925482, f(x) = 10.903734822763694\n",
            "Iteration 5: x = 0.42054837262425754, f(x) = 10.686981750526822\n",
            "Iteration 6: x = 0.38043975469571134, f(x) = 10.538943463638885\n",
            "Iteration 7: x = 0.34660082495852806, f(x) = 10.43255504111426\n",
            "Iteration 8: x = 0.3174771962595419, f(x) = 10.35317021507909\n",
            "Iteration 9: x = 0.29202874676564666, f(x) = 10.292206431621567\n",
            "Iteration 10: x = 0.2695261335763863, f(x) = 10.244319008300756\n",
            "Value of x at minimum: 0.2695261335763863\n",
            "Minimum value of f(x): 10.244319008300756\n"
          ]
        }
      ]
    },
    {
      "cell_type": "markdown",
      "source": [
        "# QUESTION-2\n"
      ],
      "metadata": {
        "id": "yDWvPgK11uml"
      }
    },
    {
      "cell_type": "code",
      "source": [
        "import math\n",
        "\n",
        "def g(x, y):\n",
        "    return 3 * x**2 + 5 * math.exp(-y) + 10\n",
        "\n",
        "def dg_dx(x, y):\n",
        "    return 6 * x\n",
        "\n",
        "def dg_dy(x, y):\n",
        "    return -5 * math.exp(-y)\n",
        "\n",
        "def gradient_descent(start_x, start_y, learning_rate, iterations):\n",
        "    x = start_x\n",
        "    y = start_y\n",
        "\n",
        "    for i in range(iterations):\n",
        "        grad_x = dg_dx(x, y)\n",
        "        grad_y = dg_dy(x, y)\n",
        "\n",
        "        x -= learning_rate * grad_x\n",
        "        y -= learning_rate * grad_y\n",
        "\n",
        "        print(f\"Iteration {i+1}: x = {x}, y = {y}, g(x, y) = {g(x, y)}\")\n",
        "\n",
        "    return x, y\n",
        "\n",
        "start_x = 1.0\n",
        "start_y = 1.0\n",
        "learning_rate = 0.01\n",
        "iterations = 10\n",
        "\n",
        "minimum_x, minimum_y = gradient_descent(start_x, start_y, learning_rate, iterations)\n",
        "\n",
        "print(\"Value of x at minimum:\", minimum_x)\n",
        "print(\"Value of y at minimum:\", minimum_y)\n",
        "print(\"Minimum value of g(x, y):\", g(minimum_x, minimum_y))"
      ],
      "metadata": {
        "colab": {
          "base_uri": "https://localhost:8080/"
        },
        "id": "yTPaKJ3l1Og9",
        "outputId": "6cac8871-d6d8-4a1f-fdd1-9ce29430ff52"
      },
      "execution_count": 3,
      "outputs": [
        {
          "output_type": "stream",
          "name": "stdout",
          "text": [
            "Iteration 1: x = 0.94, y = 1.0183939720585722, g(x, y) = 14.456672655087498\n",
            "Iteration 2: x = 0.8835999999999999, y = 1.036452698609447, g(x, y) = 14.115800473484644\n",
            "Iteration 3: x = 0.830584, y = 1.0541882345442934, g(x, y) = 13.811985306391312\n",
            "Iteration 4: x = 0.7807489599999999, y = 1.0716119941765265, g(x, y) = 13.540986991147753\n",
            "Iteration 5: x = 0.7339040224, y = 1.0887347959317717, g(x, y) = 13.299056069253297\n",
            "Iteration 6: x = 0.6898697810559999, y = 1.1055669032014577, g(x, y) = 13.082876799165636\n",
            "Iteration 7: x = 0.64847759419264, y = 1.1221180617486863, g(x, y) = 12.889516796660056\n",
            "Iteration 8: x = 0.6095689385410815, y = 1.1383975340101906, g(x, y) = 12.716382531363704\n",
            "Iteration 9: x = 0.5729948022286167, y = 1.1544141305988047, g(x, y) = 12.561179997918545\n",
            "Iteration 10: x = 0.5386151140948996, y = 1.1701762392765598, g(x, y) = 12.421879959594623\n",
            "Value of x at minimum: 0.5386151140948996\n",
            "Value of y at minimum: 1.1701762392765598\n",
            "Minimum value of g(x, y): 12.421879959594623\n"
          ]
        }
      ]
    },
    {
      "cell_type": "markdown",
      "source": [
        "# QUESTION-3\n"
      ],
      "metadata": {
        "id": "N900izYx1yZy"
      }
    },
    {
      "cell_type": "code",
      "source": [
        "import math\n",
        "\n",
        "def z(x):\n",
        "    return 1 / (1 + math.exp(-x))\n",
        "\n",
        "def dz_dx(x):\n",
        "    sigmoid = z(x)\n",
        "    return sigmoid * (1 - sigmoid)\n",
        "\n",
        "def gradient_descent(start_x, learning_rate, iterations):\n",
        "    x = start_x\n",
        "\n",
        "    for i in range(iterations):\n",
        "        grad = dz_dx(x)\n",
        "        x -= learning_rate * grad\n",
        "\n",
        "        print(f\"Iteration {i+1}: x = {x}, z(x) = {z(x)}\")\n",
        "\n",
        "    return x\n",
        "\n",
        "start_x = 1.0\n",
        "learning_rate = 0.1\n",
        "iterations = 10\n",
        "\n",
        "minimum_x = gradient_descent(start_x, learning_rate, iterations)\n",
        "\n",
        "print(\"Value of x at minimum:\", minimum_x)\n",
        "print(\"Minimum value of z(x):\", z(minimum_x))"
      ],
      "metadata": {
        "colab": {
          "base_uri": "https://localhost:8080/"
        },
        "id": "OuqpUcKx1cap",
        "outputId": "7be537d5-79ab-4a2b-936a-53f8c9bbaa3d"
      },
      "execution_count": 4,
      "outputs": [
        {
          "output_type": "stream",
          "name": "stdout",
          "text": [
            "Iteration 1: x = 0.9803388066758518, z(x) = 0.7271754378182266\n",
            "Iteration 2: x = 0.9604996746306421, z(x) = 0.7232218371555797\n",
            "Iteration 3: x = 0.9404824734889533, z(x) = 0.7191971045098832\n",
            "Iteration 4: x = 0.920287210551505, z(x) = 0.7151006232159546\n",
            "Iteration 5: x = 0.8999140383622942, z(x) = 0.7109318371617088\n",
            "Iteration 6: x = 0.8793632623551356, z(x) = 0.7066902560354154\n",
            "Iteration 7: x = 0.8586353485491341, z(x) = 0.7023754607176331\n",
            "Iteration 8: x = 0.8377309312592016, z(x) = 0.6979871087982813\n",
            "Iteration 9: x = 0.8166508207842319, z(x) = 0.6935249401960842\n",
            "Iteration 10: x = 0.7953960110320217, z(x) = 0.6889887828542721\n",
            "Value of x at minimum: 0.7953960110320217\n",
            "Minimum value of z(x): 0.6889887828542721\n"
          ]
        }
      ]
    },
    {
      "cell_type": "markdown",
      "source": [
        "# QUESTION-4"
      ],
      "metadata": {
        "id": "PnQTxBuu12Rj"
      }
    },
    {
      "cell_type": "code",
      "source": [
        "def squared_error(x_values, y_values, M, C):\n",
        "    total_error = 0\n",
        "    for i in range(len(x_values)):\n",
        "        predicted = M * x_values[i] + C\n",
        "        error = (y_values[i] - predicted) ** 2\n",
        "        total_error += error\n",
        "    return total_error\n",
        "\n",
        "def gradient_descent(x_values, y_values, start_M, start_C, learning_rate, iterations):\n",
        "    M = start_M\n",
        "    C = start_C\n",
        "\n",
        "    for i in range(iterations):\n",
        "        grad_M = 0\n",
        "        grad_C = 0\n",
        "        for j in range(len(x_values)):\n",
        "            predicted = M * x_values[j] + C\n",
        "            grad_M += -2 * x_values[j] * (y_values[j] - predicted)\n",
        "            grad_C += -2 * (y_values[j] - predicted)\n",
        "\n",
        "        M -= learning_rate * grad_M\n",
        "        C -= learning_rate * grad_C\n",
        "\n",
        "        if i % 100 == 0:\n",
        "            print(f\"Iteration {i+1}: M = {M}, C = {C}, SSE = {squared_error(x_values, y_values, M, C)}\")\n",
        "\n",
        "    return M, C\n",
        "\n",
        "x_values = [1, 2, 3, 4, 5]\n",
        "y_values = [3, 6, 9, 12, 15]\n",
        "\n",
        "start_M = 0.0\n",
        "start_C = 0.0\n",
        "learning_rate = 0.01\n",
        "iterations = 100\n",
        "\n",
        "optimal_M, optimal_C = gradient_descent(x_values, y_values, start_M, start_C, learning_rate, iterations)\n",
        "\n",
        "print(\"Optimal M:\", optimal_M)\n",
        "print(\"Optimal C:\", optimal_C)\n",
        "print(\"Final Squared Error:\", squared_error(x_values, y_values, optimal_M, optimal_C))"
      ],
      "metadata": {
        "colab": {
          "base_uri": "https://localhost:8080/"
        },
        "id": "i_FUD8zx1j7T",
        "outputId": "8e296804-0e53-4b7c-ad65-4c3bce79d20c"
      },
      "execution_count": 5,
      "outputs": [
        {
          "output_type": "stream",
          "name": "stdout",
          "text": [
            "Iteration 1: M = 3.3000000000000003, C = 0.9, SSE = 17.100000000000005\n",
            "Optimal M: 2.9611416117409677\n",
            "Optimal C: 0.14029111131493294\n",
            "Final Squared Error: 0.017911973981824498\n"
          ]
        }
      ]
    }
  ]
}