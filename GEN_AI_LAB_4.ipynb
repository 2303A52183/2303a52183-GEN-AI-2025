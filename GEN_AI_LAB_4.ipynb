{
  "nbformat": 4,
  "nbformat_minor": 0,
  "metadata": {
    "colab": {
      "provenance": [],
      "authorship_tag": "ABX9TyOzISKyHXS0L0Bvg6m4soy/",
      "include_colab_link": true
    },
    "kernelspec": {
      "name": "python3",
      "display_name": "Python 3"
    },
    "language_info": {
      "name": "python"
    }
  },
  "cells": [
    {
      "cell_type": "markdown",
      "metadata": {
        "id": "view-in-github",
        "colab_type": "text"
      },
      "source": [
        "<a href=\"https://colab.research.google.com/github/2303A52183/2303a52183-GEN-AI-2025/blob/main/GEN_AI_LAB_4.ipynb\" target=\"_parent\"><img src=\"https://colab.research.google.com/assets/colab-badge.svg\" alt=\"Open In Colab\"/></a>"
      ]
    },
    {
      "cell_type": "markdown",
      "source": [
        "# ASSIGNMENT-4\n",
        "GEN-AI\n",
        "\n",
        "2303A52183\n",
        "\n",
        "BATCH:34"
      ],
      "metadata": {
        "id": "gl_W1mrW2liK"
      }
    },
    {
      "cell_type": "code",
      "source": [
        "import numpy as np\n",
        "\n",
        "x_train = np.array([\n",
        "    [0.1, 0.2, 0.3],\n",
        "    [0.2, 0.3, 0.4],\n",
        "    [0.3, 0.4, 0.5],\n",
        "    [0.5, 0.6, 0.7],\n",
        "    [0.1, 0.3, 0.5],\n",
        "    [0.2, 0.4, 0.6],\n",
        "    [0.3, 0.5, 0.7],\n",
        "    [0.4, 0.6, 0.8],\n",
        "    [0.5, 0.7, 0.1]\n",
        "])\n",
        "y_train = np.array([0.14, 0.20, 0.26, 0.38, 0.22, 0.28, 0.34, 0.40, 0.22])\n",
        "\n",
        "x_test = np.array([\n",
        "    [0.6, 0.7, 0.8],\n",
        "    [0.7, 0.8, 0.9]\n",
        "])\n",
        "y_test = np.array([0.44, 0.50])\n",
        "\n",
        "w, b = np.random.randn(3), np.random.randn()\n",
        "\n",
        "for _ in range(1000):\n",
        "    y_pred = np.dot(x_train, w) + b\n",
        "    error = y_train - y_pred\n",
        "    w -= 0.01 * (-2 * np.dot(x_train.T, error) / len(x_train))\n",
        "    b -= 0.01 * (-2 * np.sum(error) / len(x_train))\n",
        "\n",
        "print(\"Predicted y for Training Data:\", np.dot(x_train, w) + b)\n",
        "print(\"Predicted y for Test Data:\", np.dot(x_test, w) + b)\n",
        "def predict():\n",
        "    while True:  # Loop until valid input is provided\n",
        "        try:\n",
        "            x_input = np.array([float(i) for i in input(\"Enter x1, x2, x3: \").split(',')])\n",
        "            if len(x_input) != 3:\n",
        "                raise ValueError(\"Please enter exactly 3 values for x1, x2, and x3.\")\n",
        "            break  # Exit loop if input is valid\n",
        "        except ValueError as e:\n",
        "            print(f\"Error: {e}\")\n",
        "\n",
        "    print(f\"Predicted output: {np.dot(x_input, w) + b:.5f}\")\n",
        "    print(f\"Predicted output: {np.dot(x_input, w) + b:.5f}\")\n",
        "\n",
        "predict()"
      ],
      "metadata": {
        "colab": {
          "base_uri": "https://localhost:8080/"
        },
        "id": "6QWeT30fvvNm",
        "outputId": "fceb8c4a-9a19-408e-b7f3-77acd61e6612"
      },
      "execution_count": 15,
      "outputs": [
        {
          "output_type": "stream",
          "name": "stdout",
          "text": [
            "Predicted y for Training Data: [-0.03491492  0.12171041  0.27833574  0.5915864   0.03485962  0.19148496\n",
            "  0.34811029  0.50473562  0.30230375]\n",
            "Predicted y for Test Data: [0.74821173 0.90483707]\n",
            "Enter x1, x2, x3: 0.4,0.5,0.6\n",
            "Predicted output: 0.43496\n",
            "Predicted output: 0.43496\n"
          ]
        }
      ]
    }
  ]
}