{
  "nbformat": 4,
  "nbformat_minor": 0,
  "metadata": {
    "colab": {
      "provenance": [],
      "authorship_tag": "ABX9TyOnciqy7cjQY9n5KamOYU0m",
      "include_colab_link": true
    },
    "kernelspec": {
      "name": "python3",
      "display_name": "Python 3"
    },
    "language_info": {
      "name": "python"
    }
  },
  "cells": [
    {
      "cell_type": "markdown",
      "metadata": {
        "id": "view-in-github",
        "colab_type": "text"
      },
      "source": [
        "<a href=\"https://colab.research.google.com/github/2303A52183/2303a52183-GEN-AI-2025/blob/main/GEN_AI_LAB_5_1.ipynb\" target=\"_parent\"><img src=\"https://colab.research.google.com/assets/colab-badge.svg\" alt=\"Open In Colab\"/></a>"
      ]
    },
    {
      "cell_type": "code",
      "execution_count": 2,
      "metadata": {
        "colab": {
          "base_uri": "https://localhost:8080/"
        },
        "id": "SOUvsPmKtNDV",
        "outputId": "344c9122-2ddf-4eac-df96-379e52595d77"
      },
      "outputs": [
        {
          "output_type": "stream",
          "name": "stdout",
          "text": [
            "Training MSE: 5.644091246102476e-07\n",
            "Testing MSE: 1.644285187551398e-06\n",
            "Predicted output for x1=0.5, x2=0.4: 0.36275553298302987\n"
          ]
        }
      ],
      "source": [
        "import numpy as np\n",
        "\n",
        "def sigmoid(x):\n",
        "    return 1 / (1 + np.exp(-x))\n",
        "\n",
        "def sigmoid_derivative(x):\n",
        "    return x * (1 - x)\n",
        "\n",
        "def train_ann(X, y, hidden_neurons=2, learning_rate=0.1, epochs=10000):\n",
        "    np.random.seed(42)\n",
        "    input_neurons = X.shape[1]\n",
        "    output_neurons = 1\n",
        "\n",
        "    W1 = np.random.rand(input_neurons, hidden_neurons)\n",
        "    b1 = np.random.rand(hidden_neurons)\n",
        "    W2 = np.random.rand(hidden_neurons, output_neurons)\n",
        "    b2 = np.random.rand(output_neurons)\n",
        "\n",
        "    for epoch in range(epochs):\n",
        "        hidden_input = np.dot(X, W1) + b1\n",
        "        hidden_output = sigmoid(hidden_input)\n",
        "        final_input = np.dot(hidden_output, W2) + b2\n",
        "        final_output = final_input\n",
        "\n",
        "        error = y - final_output\n",
        "\n",
        "        d_output = error\n",
        "        d_hidden = d_output.dot(W2.T) * sigmoid_derivative(hidden_output)\n",
        "\n",
        "        W2 += hidden_output.T.dot(d_output) * learning_rate\n",
        "        b2 += np.sum(d_output, axis=0) * learning_rate\n",
        "        W1 += X.T.dot(d_hidden) * learning_rate\n",
        "        b1 += np.sum(d_hidden, axis=0) * learning_rate\n",
        "\n",
        "    return W1, b1, W2, b2\n",
        "\n",
        "def predict(X, W1, b1, W2, b2):\n",
        "    hidden_input = np.dot(X, W1) + b1\n",
        "    hidden_output = sigmoid(hidden_input)\n",
        "    final_input = np.dot(hidden_output, W2) + b2\n",
        "    return final_input\n",
        "\n",
        "def mean_squared_error(y_true, y_pred):\n",
        "    return np.mean((y_true - y_pred) ** 2)\n",
        "\n",
        "X_train = np.array([[0.2, 0.1], [0.3, 0.2], [0.4, 0.3], [0.7, 0.6], [0.8, 0.7], [0.9, 0.8]])\n",
        "y_train = np.array([[0.3441], [0.3500], [0.3558], [0.3729], [0.3785], [0.3841]])\n",
        "\n",
        "W1, b1, W2, b2 = train_ann(X_train, y_train)\n",
        "\n",
        "X_test = np.array([[0.5, 0.4], [0.6, 0.5]])\n",
        "y_test = np.array([[0.3615], [0.3672]])\n",
        "y_pred_train = predict(X_train, W1, b1, W2, b2)\n",
        "y_pred_test = predict(X_test, W1, b1, W2, b2)\n",
        "\n",
        "mse_train = mean_squared_error(y_train, y_pred_train)\n",
        "mse_test = mean_squared_error(y_test, y_pred_test)\n",
        "print(f\"Training MSE: {mse_train}\")\n",
        "print(f\"Testing MSE: {mse_test}\")\n",
        "\n",
        "x1, x2 = 0.5, 0.4\n",
        "user_input = np.array([[x1, x2]])\n",
        "user_output = predict(user_input, W1, b1, W2, b2)\n",
        "print(f\"Predicted output for x1={x1}, x2={x2}: {user_output[0][0]}\")\n"
      ]
    }
  ]
}