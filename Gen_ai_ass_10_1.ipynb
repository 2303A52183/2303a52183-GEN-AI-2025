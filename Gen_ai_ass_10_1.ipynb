{
  "nbformat": 4,
  "nbformat_minor": 0,
  "metadata": {
    "colab": {
      "provenance": [],
      "authorship_tag": "ABX9TyN8TFaL2y5bFq6Qdv/mC+ac",
      "include_colab_link": true
    },
    "kernelspec": {
      "name": "python3",
      "display_name": "Python 3"
    },
    "language_info": {
      "name": "python"
    }
  },
  "cells": [
    {
      "cell_type": "markdown",
      "metadata": {
        "id": "view-in-github",
        "colab_type": "text"
      },
      "source": [
        "<a href=\"https://colab.research.google.com/github/2303A52183/2303a52183-GEN-AI-2025/blob/main/Gen_ai_ass_10_1.ipynb\" target=\"_parent\"><img src=\"https://colab.research.google.com/assets/colab-badge.svg\" alt=\"Open In Colab\"/></a>"
      ]
    },
    {
      "cell_type": "code",
      "execution_count": 1,
      "metadata": {
        "colab": {
          "base_uri": "https://localhost:8080/"
        },
        "id": "un-hh5LII21B",
        "outputId": "d8ced779-79f3-44a4-c5fa-c5af47c682af"
      },
      "outputs": [
        {
          "output_type": "stream",
          "name": "stderr",
          "text": [
            "/usr/local/lib/python3.11/dist-packages/keras/src/layers/convolutional/base_conv.py:107: UserWarning: Do not pass an `input_shape`/`input_dim` argument to a layer. When using Sequential models, prefer using an `Input(shape)` object as the first layer in the model instead.\n",
            "  super().__init__(activity_regularizer=activity_regularizer, **kwargs)\n"
          ]
        },
        {
          "output_type": "stream",
          "name": "stdout",
          "text": [
            "Epoch 1/10\n",
            "313/313 - 14s - 44ms/step - accuracy: 0.8553 - loss: 0.4861 - val_accuracy: 0.9592 - val_loss: 0.1522\n",
            "Epoch 2/10\n",
            "313/313 - 7s - 21ms/step - accuracy: 0.9593 - loss: 0.1341 - val_accuracy: 0.9652 - val_loss: 0.1164\n",
            "Epoch 3/10\n",
            "313/313 - 7s - 21ms/step - accuracy: 0.9720 - loss: 0.0946 - val_accuracy: 0.9679 - val_loss: 0.1046\n",
            "Epoch 4/10\n",
            "313/313 - 6s - 21ms/step - accuracy: 0.9773 - loss: 0.0752 - val_accuracy: 0.9767 - val_loss: 0.0702\n",
            "Epoch 5/10\n",
            "313/313 - 9s - 30ms/step - accuracy: 0.9850 - loss: 0.0554 - val_accuracy: 0.9761 - val_loss: 0.0719\n",
            "Epoch 6/10\n",
            "313/313 - 7s - 21ms/step - accuracy: 0.9869 - loss: 0.0422 - val_accuracy: 0.9762 - val_loss: 0.0748\n",
            "Epoch 7/10\n",
            "313/313 - 7s - 21ms/step - accuracy: 0.9894 - loss: 0.0353 - val_accuracy: 0.9784 - val_loss: 0.0735\n",
            "Epoch 8/10\n",
            "313/313 - 10s - 31ms/step - accuracy: 0.9911 - loss: 0.0264 - val_accuracy: 0.9734 - val_loss: 0.0871\n",
            "Epoch 9/10\n",
            "313/313 - 6s - 18ms/step - accuracy: 0.9924 - loss: 0.0243 - val_accuracy: 0.9788 - val_loss: 0.0730\n",
            "Epoch 10/10\n",
            "313/313 - 11s - 36ms/step - accuracy: 0.9949 - loss: 0.0167 - val_accuracy: 0.9812 - val_loss: 0.0608\n",
            "Training Accuracy: 0.9977\n",
            "Testing Accuracy: 0.9812\n"
          ]
        }
      ],
      "source": [
        "import tensorflow as tf\n",
        "from tensorflow.keras.datasets import mnist\n",
        "from tensorflow.keras.models import Sequential\n",
        "from tensorflow.keras.layers import Conv2D, MaxPooling2D, Flatten, Dense\n",
        "from tensorflow.keras.utils import to_categorical\n",
        "\n",
        "(x_train, y_train), (x_test, y_test) = mnist.load_data()\n",
        "\n",
        "x_train = x_train.reshape(-1, 28, 28, 1).astype('float32') / 255.0\n",
        "x_test = x_test.reshape(-1, 28, 28, 1).astype('float32') / 255.0\n",
        "y_train_cat = to_categorical(y_train, 10)\n",
        "y_test_cat = to_categorical(y_test, 10)\n",
        "\n",
        "x_train_small = x_train[:10000]\n",
        "y_train_cat_small = y_train_cat[:10000]\n",
        "\n",
        "model = Sequential([\n",
        "    Conv2D(16, kernel_size=(3,3), activation='relu', input_shape=(28, 28, 1)),\n",
        "    MaxPooling2D(pool_size=(2, 2)),\n",
        "    Conv2D(32, kernel_size=(3,3), activation='relu'),\n",
        "    MaxPooling2D(pool_size=(2, 2)),\n",
        "    Flatten(),\n",
        "    Dense(64, activation='relu'),\n",
        "    Dense(10, activation='softmax')\n",
        "])\n",
        "\n",
        "model.compile(optimizer='adam', loss='categorical_crossentropy', metrics=['accuracy'])\n",
        "\n",
        "history = model.fit(x_train_small, y_train_cat_small, epochs=10, batch_size=32, validation_data=(x_test, y_test_cat), verbose=2)\n",
        "\n",
        "train_loss, train_accuracy = model.evaluate(x_train_small, y_train_cat_small, verbose=0)\n",
        "test_loss, test_accuracy = model.evaluate(x_test, y_test_cat, verbose=0)\n",
        "\n",
        "print(f\"Training Accuracy: {train_accuracy:.4f}\")\n",
        "print(f\"Testing Accuracy: {test_accuracy:.4f}\")\n"
      ]
    }
  ]
}