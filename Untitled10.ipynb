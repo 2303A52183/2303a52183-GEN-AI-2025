{
  "nbformat": 4,
  "nbformat_minor": 0,
  "metadata": {
    "colab": {
      "provenance": [],
      "authorship_tag": "ABX9TyNmSBG4MPSVv5JoT0F7Fn1T",
      "include_colab_link": true
    },
    "kernelspec": {
      "name": "python3",
      "display_name": "Python 3"
    },
    "language_info": {
      "name": "python"
    }
  },
  "cells": [
    {
      "cell_type": "markdown",
      "metadata": {
        "id": "view-in-github",
        "colab_type": "text"
      },
      "source": [
        "<a href=\"https://colab.research.google.com/github/2303A52183/2303a52183-GEN-AI-2025/blob/main/Untitled10.ipynb\" target=\"_parent\"><img src=\"https://colab.research.google.com/assets/colab-badge.svg\" alt=\"Open In Colab\"/></a>"
      ]
    },
    {
      "cell_type": "markdown",
      "source": [],
      "metadata": {
        "id": "gl_W1mrW2liK"
      }
    },
    {
      "cell_type": "code",
      "source": [
        "import numpy as np\n",
        "\n",
        "x_train = np.array([\n",
        "    [0.1, 0.2, 0.3],\n",
        "    [0.2, 0.3, 0.4],\n",
        "    [0.3, 0.4, 0.5],\n",
        "    [0.5, 0.6, 0.7],\n",
        "    [0.1, 0.3, 0.5],\n",
        "    [0.2, 0.4, 0.6],\n",
        "    [0.3, 0.5, 0.7],\n",
        "    [0.4, 0.6, 0.8],\n",
        "    [0.5, 0.7, 0.1]\n",
        "])\n",
        "y_train = np.array([0.14, 0.20, 0.26, 0.38, 0.22, 0.28, 0.34, 0.40, 0.22])\n",
        "\n",
        "x_test = np.array([\n",
        "    [0.6, 0.7, 0.8],\n",
        "    [0.7, 0.8, 0.9]\n",
        "])\n",
        "y_test = np.array([0.44, 0.50])\n",
        "\n",
        "w, b = np.random.randn(3), np.random.randn()\n",
        "\n",
        "for _ in range(1000):\n",
        "    y_pred = np.dot(x_train, w) + b\n",
        "    error = y_train - y_pred\n",
        "    w -= 0.01 * (-2 * np.dot(x_train.T, error) / len(x_train))\n",
        "    b -= 0.01 * (-2 * np.sum(error) / len(x_train))\n",
        "\n",
        "print(\"Predicted y for Training Data:\", np.dot(x_train, w) + b)\n",
        "print(\"Predicted y for Test Data:\", np.dot(x_test, w) + b)\n",
        "def predict():\n",
        "    while True:  # Loop until valid input is provided\n",
        "        try:\n",
        "            x_input = np.array([float(i) for i in input(\"Enter x1, x2, x3: \").split(',')])\n",
        "            if len(x_input) != 3:\n",
        "                raise ValueError(\"Please enter exactly 3 values for x1, x2, and x3.\")\n",
        "            break  # Exit loop if input is valid\n",
        "        except ValueError as e:\n",
        "            print(f\"Error: {e}\")\n",
        "\n",
        "    print(f\"Predicted output: {np.dot(x_input, w) + b:.5f}\")\n",
        "    print(f\"Predicted output: {np.dot(x_input, w) + b:.5f}\")\n",
        "\n",
        "predict()"
      ],
      "metadata": {
        "colab": {
          "base_uri": "https://localhost:8080/"
        },
        "id": "6QWeT30fvvNm",
        "outputId": "c0b5aa68-d86a-4edb-acd3-3e2c1aaa8d3f"
      },
      "execution_count": 14,
      "outputs": [
        {
          "output_type": "stream",
          "name": "stdout",
          "text": [
            "Predicted y for Training Data: [0.1457764  0.18542313 0.22506986 0.30436333 0.25354034 0.29318707\n",
            " 0.3328338  0.37248054 0.3487145 ]\n",
            "Predicted y for Test Data: [0.34401006 0.38365679]\n",
            "Enter x1, x2, x3: 0.3,0.4,0.5,\n",
            "Error: could not convert string to float: ''\n",
            "Enter x1, x2, x3: 0.5,0.5,00.7\n",
            "Predicted output: 0.21245\n",
            "Predicted output: 0.21245\n"
          ]
        }
      ]
    }
  ]
}